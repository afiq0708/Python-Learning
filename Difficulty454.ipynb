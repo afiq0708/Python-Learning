{
 "cells": [
  {
   "cell_type": "code",
   "execution_count": null,
   "metadata": {},
   "outputs": [],
   "source": [
    "n = int(input())\n",
    "if n >= 7:\n",
    "    print(3)\n",
    "elif n >= 3:\n",
    "    print(2)\n",
    "else:\n",
    "    print(1)"
   ]
  }
 ],
 "metadata": {
  "language_info": {
   "name": "python"
  }
 },
 "nbformat": 4,
 "nbformat_minor": 2
}
