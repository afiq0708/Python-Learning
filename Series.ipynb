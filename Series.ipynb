{
 "cells": [
  {
   "cell_type": "code",
   "execution_count": 133,
   "metadata": {},
   "outputs": [
    {
     "name": "stdout",
     "output_type": "stream",
     "text": [
      "INPUT:  4   8   2\n",
      "Print: 8   4   2\n"
     ]
    }
   ],
   "source": [
    "#09 big to small\n",
    "num1 = int(input(\"Enter 1st Number: \"))\n",
    "num2 = int(input(\"Enter 2nd Number: \"))\n",
    "num3 = int(input(\"Enter 3rd Number: \"))\n",
    "print(\"INPUT: \",num1,\" \",num2,\" \",num3)\n",
    "f=0\n",
    "s=0\n",
    "t=0\n",
    "if num1>num2 and num1>num3:\n",
    "    f=num1\n",
    "    if num2>num3:\n",
    "        s=num2\n",
    "        t=num3\n",
    "    else:\n",
    "        s=num3\n",
    "        t=num2\n",
    "elif num1<num2 and num2>num3:\n",
    "    f=num2\n",
    "    if num1>num3:\n",
    "        s=num1\n",
    "        t=num3\n",
    "    else:\n",
    "        s=num3\n",
    "        t=num1\n",
    "else:\n",
    "    f=num3\n",
    "    if num2>num1:\n",
    "        s=num2\n",
    "        t=num1\n",
    "    else:\n",
    "        s=num1\n",
    "        t=num2\n",
    "\n",
    "print(\"Print:\",f,\" \",s,\" \",t)"
   ]
  },
  {
   "cell_type": "code",
   "execution_count": 135,
   "metadata": {},
   "outputs": [
    {
     "name": "stdout",
     "output_type": "stream",
     "text": [
      "Input:  2\n"
     ]
    },
    {
     "data": {
      "text/plain": [
       "'Prime'"
      ]
     },
     "execution_count": 135,
     "metadata": {},
     "output_type": "execute_result"
    }
   ],
   "source": [
    "#10 prime \n",
    "def prime(m):\n",
    "    print(\"Input: \",m)\n",
    "    if m==2:\n",
    "        return \"Prime\"\n",
    "    for i in range(2,m):\n",
    "        if m%i==0:\n",
    "            return \"Not Prime\"\n",
    "    return \"Prime\"\n",
    "    \n",
    "prime(2)\n",
    "            "
   ]
  },
  {
   "cell_type": "code",
   "execution_count": null,
   "metadata": {},
   "outputs": [
    {
     "name": "stdout",
     "output_type": "stream",
     "text": [
      "65\n"
     ]
    }
   ],
   "source": [
    "#11 random\n",
    "import random\n",
    "num = random.randint(2,100)\n",
    "print(num)"
   ]
  },
  {
   "cell_type": "code",
   "execution_count": 136,
   "metadata": {},
   "outputs": [
    {
     "name": "stdout",
     "output_type": "stream",
     "text": [
      "Input:  2 to 7 : \n",
      "2\n",
      "3\n",
      "5\n",
      "7\n"
     ]
    }
   ],
   "source": [
    "#13 n to m prime print \n",
    "def isprime(n,m):\n",
    "        print(\"Input: \",n,\"to\",m,\": \")\n",
    "        for i in range(n,m+1):\n",
    "            if i>1:\n",
    "                for j in range(2,i):\n",
    "                    if(i%j==0):\n",
    "                        break\n",
    "                else:\n",
    "                    print(i)\n",
    "isprime(2,7)"
   ]
  },
  {
   "cell_type": "code",
   "execution_count": 137,
   "metadata": {},
   "outputs": [
    {
     "name": "stdout",
     "output_type": "stream",
     "text": [
      "Input:  7\n"
     ]
    },
    {
     "data": {
      "text/plain": [
       "5040"
      ]
     },
     "execution_count": 137,
     "metadata": {},
     "output_type": "execute_result"
    }
   ],
   "source": [
    "#15 Factorial\n",
    "def factorial(m):\n",
    "    print(\"Input: \",m)\n",
    "    sum = 1\n",
    "    for i in range(1,m+1):\n",
    "        sum*=i;\n",
    "        i+=1;\n",
    "    return sum\n",
    "\n",
    "c=int(input(\"Enter a Number: \"))\n",
    "factorial(c)"
   ]
  },
  {
   "cell_type": "code",
   "execution_count": 139,
   "metadata": {},
   "outputs": [
    {
     "name": "stdout",
     "output_type": "stream",
     "text": [
      "Input:  9\n",
      "9 * 1 = 9\n",
      "9 * 2 = 18\n",
      "9 * 3 = 27\n",
      "9 * 4 = 36\n",
      "9 * 5 = 45\n",
      "9 * 6 = 54\n",
      "9 * 7 = 63\n",
      "9 * 8 = 72\n",
      "9 * 9 = 81\n",
      "9 * 10 = 90\n"
     ]
    }
   ],
   "source": [
    "#16 Multipication\n",
    "c=int(input(\"Enter a number: \"))\n",
    "print(\"Input: \",c)\n",
    "for i in range(1,10+1):\n",
    "    print(c,\"*\",i,\"=\",i*c)"
   ]
  },
  {
   "cell_type": "code",
   "execution_count": 140,
   "metadata": {},
   "outputs": [
    {
     "name": "stdout",
     "output_type": "stream",
     "text": [
      "Input:  4\n",
      "2\n"
     ]
    }
   ],
   "source": [
    "#17 fibonacci\n",
    "n=4#input\n",
    "print(\"Input: \",n)\n",
    "a=0\n",
    "b=1\n",
    "if(n==1): print(a)\n",
    "elif(n==2): print(b)\n",
    "else:\n",
    "    for i in range(1,n-1):\n",
    "        c=a+b\n",
    "        a=b\n",
    "        b=c\n",
    "    print(c)"
   ]
  },
  {
   "cell_type": "code",
   "execution_count": 141,
   "metadata": {},
   "outputs": [
    {
     "name": "stdout",
     "output_type": "stream",
     "text": [
      "Input:  9 :\n",
      "0\n",
      "1\n",
      "1\n",
      "2\n",
      "3\n",
      "5\n",
      "8\n",
      "13\n",
      "21\n"
     ]
    }
   ],
   "source": [
    "#17 fibonacci\n",
    "n=9#input\n",
    "print(\"Input: \",n,\":\")\n",
    "a=0\n",
    "b=1\n",
    "if(n==1): print(a)\n",
    "elif(n==2): \n",
    "    print(a)\n",
    "    print(b)\n",
    "else:\n",
    "    print(a)\n",
    "    print(b)\n",
    "    for i in range(1,n-1):\n",
    "        c=a+b\n",
    "        a=b\n",
    "        b=c\n",
    "        print(c)"
   ]
  },
  {
   "cell_type": "code",
   "execution_count": 142,
   "metadata": {},
   "outputs": [
    {
     "name": "stdout",
     "output_type": "stream",
     "text": [
      "Input:  153\n",
      "Armstrong\n"
     ]
    }
   ],
   "source": [
    "#18\n",
    "number = int(input(\"Enter a number: \"))\n",
    "print(\"Input: \",number)\n",
    "sum = 0\n",
    "size = len(str(number))\n",
    "temp = number\n",
    "for i in range(size):\n",
    "    n = number % 10\n",
    "    p = n ** size\n",
    "    number //= 10\n",
    "    sum += p\n",
    "if sum == temp:\n",
    "    print(\"Armstrong\")\n",
    "else:\n",
    "    print(\"No\")"
   ]
  },
  {
   "cell_type": "code",
   "execution_count": null,
   "metadata": {},
   "outputs": [
    {
     "name": "stdout",
     "output_type": "stream",
     "text": [
      "Print:  100 to 1000\n",
      "153\n",
      "370\n",
      "371\n",
      "407\n"
     ]
    }
   ],
   "source": [
    "#19\n",
    "a=int(input())\n",
    "b=int(input())\n",
    "print(\"Print: \",a,\"to\",b)\n",
    "\n",
    "for i in range(a,b+1):\n",
    "    size=len(str(i))\n",
    "    temp = i\n",
    "    sum=0\n",
    "    for j in range(size):\n",
    "        n = temp % 10\n",
    "        p = n ** size\n",
    "        temp //= 10\n",
    "        sum += p\n",
    "    if sum==i:\n",
    "        print(i)\n"
   ]
  },
  {
   "cell_type": "code",
   "execution_count": null,
   "metadata": {},
   "outputs": [
    {
     "name": "stdout",
     "output_type": "stream",
     "text": [
      "Input:  5\n",
      "15\n"
     ]
    }
   ],
   "source": [
    "#20 Natural number\n",
    "number = int(input(\"Enter a number: \"))\n",
    "print(\"Input: \",number)\n",
    "sum=0\n",
    "for i in range(1,number+1):\n",
    "    sum+=i\n",
    "print(sum)\n"
   ]
  },
  {
   "cell_type": "code",
   "execution_count": 16,
   "metadata": {},
   "outputs": [
    {
     "name": "stdout",
     "output_type": "stream",
     "text": [
      "[1, 2, 4, 8, 16, 32]\n"
     ]
    }
   ],
   "source": [
    "#21 \n",
    "num = 5\n",
    "tpow=[]\n",
    "for i in range(0,num+1):\n",
    "    tpow.append(2**i)\n",
    "print(tpow)"
   ]
  },
  {
   "cell_type": "code",
   "execution_count": 38,
   "metadata": {},
   "outputs": [
    {
     "name": "stdout",
     "output_type": "stream",
     "text": [
      "Gcm: 12\n",
      "Lcm: 72\n"
     ]
    }
   ],
   "source": [
    "def Gcm(a1, b1):\n",
    "    h = 0\n",
    "    s = 0\n",
    "    if a1 > b1:\n",
    "        h = a1\n",
    "        s = b1\n",
    "    else:\n",
    "        h = b1\n",
    "        s = a1 \n",
    "    \n",
    "    d1 = h\n",
    "    d2 = s\n",
    "    \n",
    "    while True:\n",
    "        a = d1 % d2\n",
    "        if a == 0:  \n",
    "            return d2  \n",
    "        d1 = d2\n",
    "        d2 = a\n",
    "def lcm(a2,b2):\n",
    "    gc= Gcm(24, 36)\n",
    "    return (a2*b2)//gc\n",
    "print(\"Gcm:\",Gcm(24, 36))\n",
    "print(\"Lcm:\",lcm(24, 36))\n"
   ]
  },
  {
   "cell_type": "code",
   "execution_count": null,
   "metadata": {},
   "outputs": [],
   "source": []
  }
 ],
 "metadata": {
  "kernelspec": {
   "display_name": "Python 3",
   "language": "python",
   "name": "python3"
  },
  "language_info": {
   "codemirror_mode": {
    "name": "ipython",
    "version": 3
   },
   "file_extension": ".py",
   "mimetype": "text/x-python",
   "name": "python",
   "nbconvert_exporter": "python",
   "pygments_lexer": "ipython3",
   "version": "3.13.1"
  }
 },
 "nbformat": 4,
 "nbformat_minor": 2
}
