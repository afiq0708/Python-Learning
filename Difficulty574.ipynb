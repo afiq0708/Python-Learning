{
 "cells": [
  {
   "cell_type": "code",
   "execution_count": 3,
   "metadata": {},
   "outputs": [
    {
     "name": "stdout",
     "output_type": "stream",
     "text": [
      "Input :  3\n",
      "Height :  1 Length :  1 Width :  2\n",
      "Output :  100\n",
      "Height :  4 Length :  2 Width :  6\n",
      "Output :  11\n",
      "Height :  10 Length :  2 Width :  4\n",
      "Output :  7\n"
     ]
    }
   ],
   "source": [
    "c=int(input())\n",
    "print(\"Input : \",c )\n",
    "i=1\n",
    "for i in range(c):\n",
    "    h, l, w = [int(x) for x in input().split()]\n",
    "    print(\"Height : \",h,\"Length : \",l,\"Width : \",w)\n",
    "    print(\"Output : \",1000//(2*(h*l+l*w+h*w)))\n"
   ]
  },
  {
   "cell_type": "code",
   "execution_count": null,
   "metadata": {},
   "outputs": [],
   "source": []
  }
 ],
 "metadata": {
  "kernelspec": {
   "display_name": "Python 3",
   "language": "python",
   "name": "python3"
  },
  "language_info": {
   "codemirror_mode": {
    "name": "ipython",
    "version": 3
   },
   "file_extension": ".py",
   "mimetype": "text/x-python",
   "name": "python",
   "nbconvert_exporter": "python",
   "pygments_lexer": "ipython3",
   "version": "3.13.1"
  }
 },
 "nbformat": 4,
 "nbformat_minor": 2
}
