{
 "cells": [
  {
   "cell_type": "code",
   "execution_count": 2,
   "metadata": {},
   "outputs": [
    {
     "name": "stdout",
     "output_type": "stream",
     "text": [
      "Input:  156   313\n",
      "Output: PLASTIC\n"
     ]
    }
   ],
   "source": [
    "h, l = [int(x) for x in input().split()]\n",
    "print(\"Input: \",h,\" \",l)\n",
    "if((h*2)>=l):\n",
    "    print(\"Output: METAL\")\n",
    "else:\n",
    "    print(\"Output: PLASTIC\")\n"
   ]
  }
 ],
 "metadata": {
  "kernelspec": {
   "display_name": "Python 3",
   "language": "python",
   "name": "python3"
  },
  "language_info": {
   "codemirror_mode": {
    "name": "ipython",
    "version": 3
   },
   "file_extension": ".py",
   "mimetype": "text/x-python",
   "name": "python",
   "nbconvert_exporter": "python",
   "pygments_lexer": "ipython3",
   "version": "3.13.1"
  }
 },
 "nbformat": 4,
 "nbformat_minor": 2
}
